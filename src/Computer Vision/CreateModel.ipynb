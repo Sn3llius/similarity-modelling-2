{
 "cells": [
  {
   "cell_type": "code",
   "execution_count": 1,
   "metadata": {},
   "outputs": [
    {
     "data": {
      "text/plain": [
       "<torch._C.Generator at 0x18b89a90d10>"
      ]
     },
     "execution_count": 1,
     "metadata": {},
     "output_type": "execute_result"
    }
   ],
   "source": [
    "import os\n",
    "import numpy as np\n",
    "import itertools\n",
    "import pandas as pd\n",
    "\n",
    "\n",
    "\n",
    "from sklearn.preprocessing import LabelEncoder\n",
    "\n",
    "from sklearn.utils import shuffle\n",
    "from sklearn.model_selection import train_test_split\n",
    "from sklearn.metrics import roc_curve, auc\n",
    "from sklearn.metrics import roc_auc_score\n",
    "\n",
    "import sklearn.metrics as metrics\n",
    "from sklearn.metrics import accuracy_score\n",
    "\n",
    "\n",
    "import torchvision.transforms as transforms\n",
    "import torch\n",
    "import torch.nn as nn\n",
    "import torch.nn.functional as F\n",
    "\n",
    "import torch.optim as optim \n",
    "from PIL import Image\n",
    "\n",
    "import matplotlib.pyplot as plt\n",
    "\n",
    "torch.manual_seed(0)"
   ]
  },
  {
   "cell_type": "markdown",
   "metadata": {},
   "source": [
    "Inspecting the data\n",
    "First we give you a short overview of the structure of the data, so that you have all the necessary information for building a DataLoader and your first model.\n",
    "\n",
    "Folder Structure as follows:\n",
    "\n",
    "* data\n",
    "    * class1\n",
    "        * image1\n",
    "        * image2\n",
    "\n",
    "    * class2\n",
    "        * image3\n",
    "        * image4\n",
    "\n",
    "    * ...\n",
    "\n",
    "\n",
    "First we get all folder names in the 'data' folder and save them as our class names."
   ]
  },
  {
   "cell_type": "code",
   "execution_count": 2,
   "metadata": {},
   "outputs": [],
   "source": [
    "#datafolder = '..\\\\data\\\\frames'\n",
    "datafolder = 'C:\\\\Users\\\\cwimmer\\\\OneDrive - Capgemini\\\\Projekte\\\\Similarity Modelling 2\\\\data\\\\frames'\n",
    "classes = os.listdir(datafolder)"
   ]
  },
  {
   "cell_type": "markdown",
   "metadata": {},
   "source": [
    "Next we fit a Label Encoder to transform our class names to integers and then create a dataframe which contains all image paths and thei respective class."
   ]
  },
  {
   "cell_type": "code",
   "execution_count": 3,
   "metadata": {},
   "outputs": [
    {
     "data": {
      "text/html": [
       "<div>\n",
       "<style scoped>\n",
       "    .dataframe tbody tr th:only-of-type {\n",
       "        vertical-align: middle;\n",
       "    }\n",
       "\n",
       "    .dataframe tbody tr th {\n",
       "        vertical-align: top;\n",
       "    }\n",
       "\n",
       "    .dataframe thead th {\n",
       "        text-align: right;\n",
       "    }\n",
       "</style>\n",
       "<table border=\"1\" class=\"dataframe\">\n",
       "  <thead>\n",
       "    <tr style=\"text-align: right;\">\n",
       "      <th></th>\n",
       "      <th>image_path</th>\n",
       "      <th>label</th>\n",
       "    </tr>\n",
       "  </thead>\n",
       "  <tbody>\n",
       "    <tr>\n",
       "      <th>0</th>\n",
       "      <td>C:\\Users\\cwimmer\\OneDrive - Capgemini\\Projekte...</td>\n",
       "      <td>0</td>\n",
       "    </tr>\n",
       "    <tr>\n",
       "      <th>1</th>\n",
       "      <td>C:\\Users\\cwimmer\\OneDrive - Capgemini\\Projekte...</td>\n",
       "      <td>0</td>\n",
       "    </tr>\n",
       "    <tr>\n",
       "      <th>2</th>\n",
       "      <td>C:\\Users\\cwimmer\\OneDrive - Capgemini\\Projekte...</td>\n",
       "      <td>0</td>\n",
       "    </tr>\n",
       "    <tr>\n",
       "      <th>3</th>\n",
       "      <td>C:\\Users\\cwimmer\\OneDrive - Capgemini\\Projekte...</td>\n",
       "      <td>0</td>\n",
       "    </tr>\n",
       "    <tr>\n",
       "      <th>4</th>\n",
       "      <td>C:\\Users\\cwimmer\\OneDrive - Capgemini\\Projekte...</td>\n",
       "      <td>0</td>\n",
       "    </tr>\n",
       "  </tbody>\n",
       "</table>\n",
       "</div>"
      ],
      "text/plain": [
       "                                          image_path label\n",
       "0  C:\\Users\\cwimmer\\OneDrive - Capgemini\\Projekte...     0\n",
       "1  C:\\Users\\cwimmer\\OneDrive - Capgemini\\Projekte...     0\n",
       "2  C:\\Users\\cwimmer\\OneDrive - Capgemini\\Projekte...     0\n",
       "3  C:\\Users\\cwimmer\\OneDrive - Capgemini\\Projekte...     0\n",
       "4  C:\\Users\\cwimmer\\OneDrive - Capgemini\\Projekte...     0"
      ]
     },
     "execution_count": 3,
     "metadata": {},
     "output_type": "execute_result"
    }
   ],
   "source": [
    "label_encoder = LabelEncoder().fit(classes)\n",
    "\n",
    "data_df = pd.DataFrame(columns=['image_path', 'label'])\n",
    "\n",
    "for class_ in classes:\n",
    "    for image in os.listdir(datafolder + '\\\\' + class_):\n",
    "        row = {'image_path': datafolder + '\\\\' + class_+ '\\\\' + image, 'label':label_encoder.transform([class_])[0]}\n",
    "        data_df = data_df.append(row, ignore_index=True)\n",
    "\n",
    "data_df.head()"
   ]
  },
  {
   "cell_type": "code",
   "execution_count": 4,
   "metadata": {},
   "outputs": [
    {
     "data": {
      "text/plain": [
       "'C:\\\\Users\\\\cwimmer\\\\OneDrive - Capgemini\\\\Projekte\\\\Similarity Modelling 2\\\\data\\\\frames\\\\kermit\\\\Muppets-02-01-01_f1000.jpg'"
      ]
     },
     "execution_count": 4,
     "metadata": {},
     "output_type": "execute_result"
    }
   ],
   "source": [
    "data_df.iloc[0][0]"
   ]
  },
  {
   "cell_type": "markdown",
   "metadata": {},
   "source": [
    "Now we shuffle our dataset and then split it in a train, validation and test dataset."
   ]
  },
  {
   "cell_type": "code",
   "execution_count": 5,
   "metadata": {},
   "outputs": [
    {
     "name": "stdout",
     "output_type": "stream",
     "text": [
      "# Train-Examples>>> 1488\n",
      "# Val-Examples \t>>> 372\n",
      "# Test-Examples >>> 466\n",
      "\n"
     ]
    }
   ],
   "source": [
    "data_df = shuffle(data_df, random_state=0)\n",
    "train_val_df, test_df = train_test_split(data_df, random_state=0, test_size=0.2)\n",
    "train_df, val_df = train_test_split(train_val_df, random_state=0, test_size=0.2)\n",
    "print('# Train-Examples>>> {}\\n# Val-Examples \\t>>> {}\\n# Test-Examples >>> {}\\n'.format(len(train_df), len(val_df), len(test_df)))"
   ]
  },
  {
   "cell_type": "markdown",
   "metadata": {},
   "source": [
    "## Creating a PyTorch Dataset\n",
    "\n",
    "This Dataset Class should inhert the torch.utils.data.Dataset class and overwrite the __init__, __len__ and __getitem__ methods.\n"
   ]
  },
  {
   "cell_type": "code",
   "execution_count": 6,
   "metadata": {},
   "outputs": [],
   "source": [
    "class imageDataset(torch.utils.data.Dataset):\n",
    "    \n",
    "    def __init__(self, data_loader_df, transform):\n",
    "        self.name_frame = data_loader_df\n",
    "        self.transform = transform\n",
    "    \n",
    "    def __len__(self):\n",
    "        '''Return the length of the dataframe as an integer'''\n",
    "        length = len(self.name_frame)\n",
    "        return length\n",
    "\n",
    "    def __getitem__(self, idx):\n",
    "        '''\n",
    "        1. Get the path of the image with the index\n",
    "        2. open the Image with the PIL Library\n",
    "        3. transform the image with the transformer\n",
    "        4. get the label of the image witht the index\n",
    "        5. retrun the sample as a tuple\n",
    "        '''\n",
    "        img_name = self.name_frame.iloc[idx].image_path\n",
    "        image = Image.open(img_name)\n",
    "        image = image.convert('RGB')\n",
    "        image = self.transform(image)\n",
    "        label = self.name_frame.iloc[idx].label\n",
    "        sample = (image, label)\n",
    "        return sample"
   ]
  },
  {
   "cell_type": "markdown",
   "metadata": {},
   "source": [
    "A transformer object is accessible under imageTransformer."
   ]
  },
  {
   "cell_type": "code",
   "execution_count": 7,
   "metadata": {},
   "outputs": [],
   "source": [
    "resize_size = 260 # smallest side of image resized to 255px\n",
    "output_size = 256 # image cropped so it has size 244x244px\n",
    "\n",
    "imageTransformer = transforms.Compose([\n",
    "    transforms.Resize((resize_size)),\n",
    "    transforms.CenterCrop(output_size),\n",
    "    transforms.ToTensor()\n",
    "])"
   ]
  },
  {
   "cell_type": "markdown",
   "metadata": {},
   "source": [
    "## Create the PyTorch Datasets\n",
    "\n",
    "Now we use our implemented class to create the train, test and validation dataset as PyTorch datasets.\n",
    "\n",
    "_Side Note: The test set is not used in this Example but it is common to validate and compare different models with the validation set and then test the best model on this unused test set. This is done to avoid overfitting a model only to the validation set which does not generalize to unseen data._"
   ]
  },
  {
   "cell_type": "code",
   "execution_count": 8,
   "metadata": {},
   "outputs": [],
   "source": [
    "train_dataset = imageDataset(train_df, transform=imageTransformer)\n",
    "test_dataset = imageDataset(test_df, transform=imageTransformer)\n",
    "val_dataset = imageDataset(val_df, transform=imageTransformer)"
   ]
  },
  {
   "cell_type": "code",
   "execution_count": 9,
   "metadata": {},
   "outputs": [
    {
     "data": {
      "text/plain": [
       "torch.Size([3, 256, 256])"
      ]
     },
     "execution_count": 9,
     "metadata": {},
     "output_type": "execute_result"
    }
   ],
   "source": [
    "# test our datasets by printing the shape of the first sample image\n",
    "train_dataset[0][0].shape"
   ]
  },
  {
   "cell_type": "markdown",
   "metadata": {},
   "source": [
    "The shape of our images is: (channels, height, width) with channels being the red, green and blue channel in RGB."
   ]
  },
  {
   "cell_type": "markdown",
   "metadata": {},
   "source": [
    "## Create a PyTorch Dataloader\n",
    "\n",
    "Next we want to create Dataloader Objects for out datasets which can be used to train our model. This Dataloader object should be used in that way:\n",
    "\n",
    "for images, labels in dataloader:\n",
    "    model.train(images, labels)\n",
    "    \n",
    "\n",
    "* images as tensor with shape (batch_size, channels, height, width)\n",
    "* labels as tensor with shape (batch_size)\n",
    "\n",
    "\n",
    "Therefor we use the torch.utils.data.DataLoader class to transform our datasets in dataloader. But first we have to define the batch size to use.\n"
   ]
  },
  {
   "cell_type": "code",
   "execution_count": 10,
   "metadata": {},
   "outputs": [],
   "source": [
    "batch_size = 32\n",
    "\n",
    "train_loader = torch.utils.data.DataLoader(train_dataset,batch_size=batch_size)\n",
    "# train_loader = torch.utils.data.DataLoader(train_dataset,batch_size=batch_size, num_workers=2)\n",
    "val_loader = torch.utils.data.DataLoader(val_dataset,batch_size=batch_size)\n",
    "test_loader = torch.utils.data.DataLoader(test_dataset,batch_size=batch_size)"
   ]
  },
  {
   "cell_type": "markdown",
   "metadata": {},
   "source": [
    "save and load DataLoader objects"
   ]
  },
  {
   "cell_type": "code",
   "execution_count": 14,
   "metadata": {},
   "outputs": [],
   "source": [
    "# torch.save(test_loader, 'C:\\\\Users\\\\cwimmer\\\\OneDrive - Capgemini\\\\Projekte\\\\Similarity Modelling 2\\\\src\\\\Computer Vision\\\\test.pth')\n",
    "# test_loader = torch.load('C:\\\\Users\\\\cwimmer\\\\OneDrive - Capgemini\\\\Projekte\\\\Similarity Modelling 2\\\\src\\\\Computer Vision\\\\test.pth')"
   ]
  },
  {
   "cell_type": "markdown",
   "metadata": {},
   "source": [
    "The worker paramter defines how many python subprocesses should be launched to load the data while training. This is especially usefull when training with a gpu."
   ]
  },
  {
   "cell_type": "code",
   "execution_count": 11,
   "metadata": {},
   "outputs": [
    {
     "name": "stdout",
     "output_type": "stream",
     "text": [
      "torch.Size([32, 3, 256, 256])\n",
      "torch.Size([32])\n"
     ]
    }
   ],
   "source": [
    "# test our dataloader by printing the shape of the first batch\n",
    "for images, labels in train_loader:\n",
    "    print(images.shape)\n",
    "    print(labels.shape)\n",
    "    break"
   ]
  },
  {
   "cell_type": "markdown",
   "metadata": {},
   "source": [
    "## Designing the Neural Network"
   ]
  },
  {
   "cell_type": "markdown",
   "metadata": {},
   "source": [
    "In this task we implement the architecture of our convolutional neural network. In order to do so we create a class which inherits nn.Module and overwrite the __init__ and the forward method.\n",
    "\n",
    "In the __init__ function we define the layers of our networkk and the forward function specifies how the input should pass through our layers - in other words the architecture.\n",
    "\n",
    "\n",
    "\n",
    " \n",
    "\n",
    "**Architecture**\n",
    "\n",
    "We are goining to implement a simple 2-dimensional Convolutional Neural Network with 2 convolutional layers and 1 hidden fully connected layer and an output layer. We use a very simple network to be able to run our example in rather short time - but in the same manner all well known networks (AlexNet, VGG,...) can be rebuilt.\n",
    "\n",
    "Similar to the image below:\n",
    "\n",
    "<img src=\"https://miro.medium.com/max/1000/1*cPAmSB9nziZPI73VC5HAHg.png\">\n",
    "\n",
    "Our convolutional layers should extract features from the images and the fully connected layers are used to classify the images.\n",
    "\n",
    "The specifications we use in this tutorial are as follows:\n",
    "* Conv1: out_channels=15, kernel_size=3, padding=1, stride=1 (image size stays the same with this config)\n",
    "* Conv2: out_channels=30, kernel_size=3, padding=1, stride=1 (image size stays the same with this config)\n",
    "* FullyConnected: out_features=100\n",
    "* output: Calculate \n",
    "\n",
    "Pooling: max-pooling with size 2 and stride 2\n",
    "\n",
    "Activation: Rectified Linear Unit in hidden Layers and Softmax for output layer\n",
    "\n",
    "Information about the different classes in the torch.nn module can be found here: <a href=https://pytorch.org/docs/stable/nn.html>toch.nn</a>\n"
   ]
  },
  {
   "cell_type": "code",
   "execution_count": 12,
   "metadata": {},
   "outputs": [],
   "source": [
    "class Net(nn.Module):\n",
    "    def __init__(self, image_size, num_classes):\n",
    "        super(Net, self).__init__()\n",
    "        self.image_size = image_size\n",
    "        self.num_classes = num_classes\n",
    "        \n",
    "        self.relu = nn.ReLU()\n",
    "        self.softmax = nn.Softmax()\n",
    "        \n",
    "        self.pool = nn.MaxPool2d(2,2)\n",
    "        \n",
    "        self.conv1 = nn.Conv2d(in_channels=3, out_channels=64, kernel_size=3, padding=1, stride=1)\n",
    "        self.conv2 = nn.Conv2d(in_channels=64, out_channels=128, kernel_size=3, padding=1, stride=1)\n",
    "        self.fc = nn.Linear(in_features=int(self.image_size / 2 / 2 * self.image_size / 2 / 2 * 128), out_features=100)\n",
    "        self.out = nn.Linear(in_features=100, out_features=num_classes)\n",
    "    def forward(self, x):\n",
    "        # Convolutional Layer 1\n",
    "        x = self.conv1(x)\n",
    "        x = self.relu(x)\n",
    "        x = self.pool(x)\n",
    "        # Convolutional Layer 2\n",
    "        x = self.conv2(x)\n",
    "        x = self.relu(x)\n",
    "        x = self.pool(x)\n",
    "        # transform from 2d to 1d\n",
    "        x = x.view(-1, int(self.image_size / 2 / 2 * self.image_size / 2 / 2 * 128))\n",
    "        # Fully Connected Layer\n",
    "        x = self.fc(x)\n",
    "        x = self.relu(x)\n",
    "        # Output Layer\n",
    "        x = self.out(x)\n",
    "        return x"
   ]
  },
  {
   "cell_type": "code",
   "execution_count": 13,
   "metadata": {},
   "outputs": [],
   "source": [
    "# set the device we are using for training - if you are lucky to have a gpu nearby\n",
    "device = torch.device('cuda' if torch.cuda.is_available() else 'cpu')\n",
    "# Initialize the Network\n",
    "model = Net(output_size, len(classes)).to(device)"
   ]
  },
  {
   "cell_type": "markdown",
   "metadata": {},
   "source": [
    "## Define Hyperparamters\n",
    "\n",
    "In this task we define 2 very important Hyperparamters for out training.\n",
    "\n",
    "1. The Optimizer Function (in torch.optim module)\n",
    "2. The Loss Criterion (in torch.nn module)\n",
    "\n",
    "We use the Adam Optimizer and the Cross Entropy Loss.\n"
   ]
  },
  {
   "cell_type": "code",
   "execution_count": 14,
   "metadata": {},
   "outputs": [],
   "source": [
    "criterion = nn.CrossEntropyLoss()\n",
    "optimizer = optim.Adam(model.parameters(), lr=3e-4)"
   ]
  },
  {
   "cell_type": "markdown",
   "metadata": {},
   "source": [
    "## Train Model\n",
    "\n",
    "This is step we finally train our model with our trainings data. To do so we have to write a function which contains a for loop that iterates over every batch in our training data!"
   ]
  },
  {
   "cell_type": "code",
   "execution_count": 137,
   "metadata": {},
   "outputs": [],
   "source": [
    "def train_model(model, train_loader, optimizer, criterion, device=torch.device('cpu')):\n",
    "    # initialize metrics for training\n",
    "    train_loss = train_accuracy = counter = 0\n",
    "    # for-loop \n",
    "    for inputs, labels in train_loader:\n",
    "            inputs = inputs.to(device)\n",
    "            labels = labels.to(device)\n",
    "            # Clear optimizer\n",
    "            optimizer.zero_grad()\n",
    "            # Forward pass\n",
    "            output = model.forward(inputs)\n",
    "            # Loss\n",
    "            loss = criterion(output, labels)\n",
    "            # calculate gradients (backpropogation)\n",
    "            loss.backward()\n",
    "            # Adjust parameters based on gradients\n",
    "            optimizer.step()\n",
    "            # Add the loss to the training set's running loss\n",
    "            train_loss += loss.item()*inputs.size(0)\n",
    "            # Calcuate Train_Accuracy\n",
    "            top_p, top_class = output.topk(1, dim=1)\n",
    "            # See how many of the classes were correct?\n",
    "            equals = top_class == labels.view(*top_class.shape)            \n",
    "            # Calculate the mean (get the accuracy for this batch)\n",
    "            # and add it to the running accuracy for this epoch\n",
    "            train_accuracy += torch.mean(equals.type(torch.FloatTensor)).item()\n",
    "            \n",
    "\n",
    "            # Print the progress of our training\n",
    "            counter += 1\n",
    "            print('{}{}{} Train-Batches Progressed\\r'.format(counter, \"/\", len(train_loader)), end=\"\")\n",
    "\n",
    "    train_loss = round(train_loss/len(train_loader.dataset), 4)\n",
    "    train_accuracy = round(train_accuracy/len(train_loader), 4)\n",
    "    print('Training Loss: {} \\t\\tTraining Accuracy: {}'.format(train_loss, train_accuracy))\n",
    "    \n",
    "    torch.save(model.state_dict(), 'C:\\\\Users\\\\cwimmer\\\\OneDrive - Capgemini\\\\Projekte\\\\Similarity Modelling 2\\\\src\\\\Computer Vision\\\\models\\\\.pt')\n",
    "    \n",
    "    return model"
   ]
  },
  {
   "cell_type": "code",
   "execution_count": 138,
   "metadata": {},
   "outputs": [
    {
     "name": "stdout",
     "output_type": "stream",
     "text": [
      "Training Loss: 0.4124 \t\tTraining Accuracy: 0.8324\n"
     ]
    }
   ],
   "source": [
    "train_model(model, train_loader, optimizer, criterion, device=device)"
   ]
  },
  {
   "cell_type": "markdown",
   "metadata": {},
   "source": [
    "## Validate Model\n",
    "\n",
    "This is step we validate our trained model with our validation data. To do so we write a function which implements a for loop that iterates over every batch in our validation data!\n",
    "\n",
    "Same as before you have to implement the for loop by writing the code suggested in the comments."
   ]
  },
  {
   "cell_type": "code",
   "execution_count": 128,
   "metadata": {},
   "outputs": [],
   "source": [
    "def validate_model(model,val_loader,criterion, device=torch.device('cpu')):\n",
    "        # initialize metrics for every epoch\n",
    "        val_loss = 0\n",
    "        val_accuracy = 0 \n",
    "        counter = 0\n",
    "        \n",
    "        y_true = torch.tensor([], dtype=torch.long, device=device)\n",
    "        all_outputs = torch.tensor([], device=device)\n",
    "        \n",
    "        \n",
    "        # Tell torch not to calculate gradients\n",
    "        with torch.no_grad():\n",
    "            for inputs, labels in val_loader:  \n",
    "                inputs = inputs.to(device)\n",
    "                labels = labels.to(device)\n",
    "                # Forward pass\n",
    "                output = model.forward(inputs)            \n",
    "                # Calculate Loss\n",
    "                valloss = criterion(output, labels)            \n",
    "                # Add loss to the validation set's running loss\n",
    "                val_loss += valloss.item()*inputs.size(0)\n",
    "                # Since our model outputs a LogSoftmax, find the real           \n",
    "                # Get the top class of the output\n",
    "                top_p, top_class = output.topk(1, dim=1)\n",
    "\n",
    "\n",
    "                # See how many of the classes were correct?\n",
    "                equals = top_class == labels.view(*top_class.shape)            \n",
    "                # Calculate the mean (get the accuracy for this batch)\n",
    "                # and add it to the running accuracy for this epoch\n",
    "                val_accuracy += torch.mean(equals.type(torch.FloatTensor)).item()\n",
    "                # Print the progress of our evaluation\n",
    "                counter += 1\n",
    "\n",
    "                #outputs = model(*inputs)\n",
    "                y_true = torch.cat((y_true, labels), 0)\n",
    "                all_outputs = torch.cat((all_outputs, output), 0)\n",
    "                \n",
    "                \n",
    "                print('{}{}{} Validation-Batches Progressed\\r'.format(counter, \"/\", len(val_loader)), end=\"\")\n",
    "                             \n",
    "        \n",
    "        y_true = y_true.cpu().numpy()  \n",
    "        _, y_pred = torch.max(all_outputs, 1)\n",
    "        y_pred = y_pred.cpu().numpy()\n",
    "        y_pred_prob = F.softmax(all_outputs, dim=1).cpu().numpy()\n",
    "                \n",
    "        # Get the average loss for the entire epoch\n",
    "        val_loss = round(val_loss/len(val_loader.dataset), 4)\n",
    "        val_accuracy = round(val_accuracy/len(val_loader), 4)\n",
    "        # Print out the information\n",
    "        print('Validation Loss:  {} \\tValidation Accuracy: {}'.format(val_loss, val_accuracy))\n",
    "        return val_loss, val_accuracy, y_true, y_pred, y_pred_prob"
   ]
  },
  {
   "cell_type": "code",
   "execution_count": 124,
   "metadata": {},
   "outputs": [
    {
     "name": "stdout",
     "output_type": "stream",
     "text": [
      "Validation Loss:  0.5139 \tValidation Accuracy: 0.7885\n"
     ]
    }
   ],
   "source": [
    "validate_model(model,val_loader,criterion, device=device)"
   ]
  },
  {
   "cell_type": "markdown",
   "metadata": {},
   "source": [
    "## Train and Validate Model"
   ]
  },
  {
   "cell_type": "code",
   "execution_count": 187,
   "metadata": {},
   "outputs": [],
   "source": [
    "def train_validate_model(model, model_name, train_loader, val_loader, optimizer, criterion, epochs, device=torch.device('cpu')):\n",
    "    \n",
    "    case_list = []\n",
    "    \n",
    "    for epoch in range(epochs):\n",
    "        print('Epoch {} ...'.format(epoch+1))\n",
    "        \n",
    "        ### Train\n",
    "            # initialize metrics for training\n",
    "        train_loss = train_accuracy = counter = 0\n",
    "        # for-loop \n",
    "        for inputs, labels in train_loader:\n",
    "                inputs = inputs.to(device)\n",
    "                labels = labels.to(device)\n",
    "                # Clear optimizer\n",
    "                optimizer.zero_grad()\n",
    "                # Forward pass\n",
    "                output = model.forward(inputs)\n",
    "                # Loss\n",
    "                loss = criterion(output, labels)\n",
    "                # calculate gradients (backpropogation)\n",
    "                loss.backward()\n",
    "                # Adjust parameters based on gradients\n",
    "                optimizer.step()\n",
    "                # Add the loss to the training set's running loss\n",
    "                train_loss += loss.item()*inputs.size(0)\n",
    "                # Calcuate Train_Accuracy\n",
    "                top_p, top_class = output.topk(1, dim=1)\n",
    "                # See how many of the classes were correct?\n",
    "                equals = top_class == labels.view(*top_class.shape)            \n",
    "                # Calculate the mean (get the accuracy for this batch)\n",
    "                # and add it to the running accuracy for this epoch\n",
    "                train_accuracy += torch.mean(equals.type(torch.FloatTensor)).item()\n",
    "\n",
    "\n",
    "                # Print the progress of our training\n",
    "                counter += 1\n",
    "                print('{}{}{} Train-Batches Progressed\\r'.format(counter, \"/\", len(train_loader)), end=\"\")\n",
    "\n",
    "        train_loss = round(train_loss/len(train_loader.dataset), 4)\n",
    "        train_accuracy = round(train_accuracy/len(train_loader), 4)\n",
    "        print('Training Loss: {} \\t\\tTraining Accuracy: {}'.format(train_loss, train_accuracy))\n",
    "    \n",
    "        torch.save(model.state_dict(), 'C:\\\\Users\\\\cwimmer\\\\OneDrive - Capgemini\\\\Projekte\\\\Similarity Modelling 2\\\\src\\\\Computer Vision\\\\models\\\\model-{}.pt'.format(epoch+1))\n",
    "    \n",
    "        \n",
    "        \n",
    "        ### Validation\n",
    "        # initialize metrics for every epoch\n",
    "        val_loss = 0\n",
    "        val_accuracy = 0 \n",
    "        counter = 0\n",
    "        \n",
    "        y_true = torch.tensor([], dtype=torch.long, device=device)\n",
    "        all_outputs = torch.tensor([], device=device)\n",
    "        \n",
    "        \n",
    "        # Tell torch not to calculate gradients\n",
    "        with torch.no_grad():\n",
    "            for inputs, labels in val_loader:  \n",
    "                inputs = inputs.to(device)\n",
    "                labels = labels.to(device)\n",
    "                # Forward pass\n",
    "                output = model.forward(inputs)            \n",
    "                # Calculate Loss\n",
    "                valloss = criterion(output, labels)            \n",
    "                # Add loss to the validation set's running loss\n",
    "                val_loss += valloss.item()*inputs.size(0)\n",
    "                # Since our model outputs a LogSoftmax, find the real           \n",
    "                # Get the top class of the output\n",
    "                top_p, top_class = output.topk(1, dim=1)\n",
    "\n",
    "\n",
    "                # See how many of the classes were correct?\n",
    "                equals = top_class == labels.view(*top_class.shape)            \n",
    "                # Calculate the mean (get the accuracy for this batch)\n",
    "                # and add it to the running accuracy for this epoch\n",
    "                val_accuracy += torch.mean(equals.type(torch.FloatTensor)).item()\n",
    "                # Print the progress of our evaluation\n",
    "                counter += 1\n",
    "                \n",
    "                # catinate all true labels\n",
    "                y_true = torch.cat((y_true, labels), 0)\n",
    "                # catinate all predicted labes\n",
    "                all_outputs = torch.cat((all_outputs, output), 0)\n",
    "                \n",
    "                \n",
    "                print('{}{}{} Validation-Batches Progressed\\r'.format(counter, \"/\", len(val_loader)), end=\"\")\n",
    "        \n",
    "        ### store the metrics for graphs, confusion matrix, ROC and AUC for later\n",
    "        # y_true to numpy\n",
    "        y_true = y_true.cpu().numpy()  \n",
    "        # y_pred to numpy (all_outputs)\n",
    "        _, y_pred = torch.max(all_outputs, 1)\n",
    "        \n",
    "        # y_pred to numpy (all_outputs)\n",
    "        y_pred = y_pred.cpu().numpy()\n",
    "        # get prediction probability of all outputs to numpy\n",
    "        y_pred_prob = F.softmax(all_outputs, dim=1).cpu().numpy()\n",
    "        \n",
    "   \n",
    "        \n",
    "        # Get the average loss for the entire epoch\n",
    "        val_loss = round(val_loss/len(val_loader.dataset), 4)\n",
    "        val_accuracy = round(val_accuracy/len(val_loader), 4)\n",
    "        # Print out the information\n",
    "        print('Validation Loss:  {} \\tValidation Accuracy: {}'.format(val_loss, val_accuracy))\n",
    "        \n",
    "        # save model\n",
    "        torch.save(model.state_dict(), 'C:\\\\Users\\\\cwimmer\\\\OneDrive - Capgemini\\\\Projekte\\\\Similarity Modelling 2\\\\src\\\\Computer Vision\\\\models\\\\{}-epoch-{}-val_acc-{}.pt'.format(model_name,(epoch+1), val_accuracy))\n",
    "\n",
    "        # save every metric in a dict\n",
    "        case = {'train_accuracy': train_accuracy, 'train_loss': train_loss,\n",
    "                                  'val_accuracy': val_accuracy, 'val_loss': val_loss, 'y_true' : y_true,\n",
    "                                  'y_pred' : y_pred, 'y_pred_prob' :y_pred_prob}\n",
    "        \n",
    "        \n",
    "        # append each metric dict per epoch\n",
    "        case_list.append(case)\n",
    "        \n",
    "\n",
    "        print('-------------')\n",
    "    return case_list"
   ]
  },
  {
   "cell_type": "code",
   "execution_count": 189,
   "metadata": {},
   "outputs": [
    {
     "name": "stdout",
     "output_type": "stream",
     "text": [
      "Epoch 1 ...\n",
      "Training Loss: 0.7711 \t\tTraining Accuracy: 0.6297\n",
      "Validation Loss:  0.5701 \tValidation Accuracy: 0.701\n",
      "-------------\n",
      "Epoch 2 ...\n",
      "Training Loss: 0.5542 \t\tTraining Accuracy: 0.7327\n",
      "Validation Loss:  0.444 \tValidation Accuracy: 0.8161\n",
      "-------------\n",
      "Epoch 3 ...\n",
      "Training Loss: 0.4147 \t\tTraining Accuracy: 0.8371\n",
      "Validation Loss:  0.3313 \tValidation Accuracy: 0.8698\n",
      "-------------\n",
      "Epoch 4 ...\n",
      "Training Loss: 0.2561 \t\tTraining Accuracy: 0.9149\n",
      "Validation Loss:  0.3133 \tValidation Accuracy: 0.8552\n",
      "-------------\n",
      "Epoch 5 ...\n",
      "Training Loss: 0.144 \t\tTraining Accuracy: 0.9535\n",
      "Validation Loss:  0.231 \tValidation Accuracy: 0.9089\n",
      "-------------\n",
      "Epoch 6 ...\n",
      "Training Loss: 0.0909 \t\tTraining Accuracy: 0.9701\n",
      "Validation Loss:  0.2282 \tValidation Accuracy: 0.9073\n",
      "-------------\n",
      "Epoch 7 ...\n",
      "Training Loss: 0.0483 \t\tTraining Accuracy: 0.9887\n",
      "Validation Loss:  0.2502 \tValidation Accuracy: 0.9151\n",
      "-------------\n",
      "Epoch 8 ...\n",
      "Training Loss: 0.0299 \t\tTraining Accuracy: 0.9953\n",
      "Validation Loss:  0.2925 \tValidation Accuracy: 0.899\n",
      "-------------\n",
      "Epoch 9 ...\n",
      "Training Loss: 0.026 \t\tTraining Accuracy: 0.9967\n",
      "Validation Loss:  0.4812 \tValidation Accuracy: 0.8714\n",
      "-------------\n",
      "Epoch 10 ...\n",
      "Training Loss: 0.0224 \t\tTraining Accuracy: 0.994\n",
      "Validation Loss:  0.5076 \tValidation Accuracy: 0.8766\n",
      "-------------\n"
     ]
    }
   ],
   "source": [
    "result = train_validate_model(model, kirmet_detection, train_loader, val_loader, optimizer, criterion, epochs, device=device)"
   ]
  },
  {
   "cell_type": "markdown",
   "metadata": {},
   "source": [
    "### Plotting the Training Curve"
   ]
  },
  {
   "cell_type": "code",
   "execution_count": 299,
   "metadata": {},
   "outputs": [],
   "source": [
    "def get_metrics_df(results_from_model):\n",
    "    df = pd.DataFrame(results_from_model[1])\n",
    "    df = df.drop(['y_true', 'y_pred', 'y_pred_prob'], axis=1)\n",
    "#    df['val_accuracy'] = df['val_accuracy'].div(12)\n",
    "#    df['val_loss'] = df['val_loss'].div(372)\n",
    "    df['epoch'] = df.index + 1\n",
    "    return df"
   ]
  },
  {
   "cell_type": "code",
   "execution_count": 300,
   "metadata": {},
   "outputs": [
    {
     "data": {
      "text/html": [
       "<div>\n",
       "<style scoped>\n",
       "    .dataframe tbody tr th:only-of-type {\n",
       "        vertical-align: middle;\n",
       "    }\n",
       "\n",
       "    .dataframe tbody tr th {\n",
       "        vertical-align: top;\n",
       "    }\n",
       "\n",
       "    .dataframe thead th {\n",
       "        text-align: right;\n",
       "    }\n",
       "</style>\n",
       "<table border=\"1\" class=\"dataframe\">\n",
       "  <thead>\n",
       "    <tr style=\"text-align: right;\">\n",
       "      <th></th>\n",
       "      <th>train_accuracy</th>\n",
       "      <th>train_loss</th>\n",
       "      <th>val_accuracy</th>\n",
       "      <th>val_loss</th>\n",
       "      <th>epoch</th>\n",
       "    </tr>\n",
       "  </thead>\n",
       "  <tbody>\n",
       "    <tr>\n",
       "      <th>0</th>\n",
       "      <td>0.6297</td>\n",
       "      <td>0.7711</td>\n",
       "      <td>0.701042</td>\n",
       "      <td>0.570064</td>\n",
       "      <td>1</td>\n",
       "    </tr>\n",
       "    <tr>\n",
       "      <th>1</th>\n",
       "      <td>0.7327</td>\n",
       "      <td>0.5542</td>\n",
       "      <td>0.816146</td>\n",
       "      <td>0.443957</td>\n",
       "      <td>2</td>\n",
       "    </tr>\n",
       "    <tr>\n",
       "      <th>2</th>\n",
       "      <td>0.8371</td>\n",
       "      <td>0.4147</td>\n",
       "      <td>0.869792</td>\n",
       "      <td>0.331258</td>\n",
       "      <td>3</td>\n",
       "    </tr>\n",
       "    <tr>\n",
       "      <th>3</th>\n",
       "      <td>0.9149</td>\n",
       "      <td>0.2561</td>\n",
       "      <td>0.855208</td>\n",
       "      <td>0.313300</td>\n",
       "      <td>4</td>\n",
       "    </tr>\n",
       "    <tr>\n",
       "      <th>4</th>\n",
       "      <td>0.9535</td>\n",
       "      <td>0.1440</td>\n",
       "      <td>0.908854</td>\n",
       "      <td>0.230981</td>\n",
       "      <td>5</td>\n",
       "    </tr>\n",
       "  </tbody>\n",
       "</table>\n",
       "</div>"
      ],
      "text/plain": [
       "   train_accuracy  train_loss  val_accuracy  val_loss  epoch\n",
       "0          0.6297      0.7711      0.701042  0.570064      1\n",
       "1          0.7327      0.5542      0.816146  0.443957      2\n",
       "2          0.8371      0.4147      0.869792  0.331258      3\n",
       "3          0.9149      0.2561      0.855208  0.313300      4\n",
       "4          0.9535      0.1440      0.908854  0.230981      5"
      ]
     },
     "execution_count": 300,
     "metadata": {},
     "output_type": "execute_result"
    }
   ],
   "source": [
    "df = get_metrics_df(result)\n",
    "df.head()"
   ]
  },
  {
   "cell_type": "code",
   "execution_count": 304,
   "metadata": {},
   "outputs": [
    {
     "data": {
      "image/png": "[encoded data removed]",
      "text/plain": [
       "<Figure size 720x432 with 1 Axes>"
      ]
     },
     "metadata": {
      "needs_background": "light"
     },
     "output_type": "display_data"
    }
   ],
   "source": [
    "plt.figure(figsize=(10,6))\n",
    "plt.title(\"Training Curve\") \n",
    "plt.xlabel(\"Epoch\")\n",
    "\n",
    "plt.plot(df['epoch'], df['train_accuracy'], label = 'train_accuracy')\n",
    "plt.plot(df['epoch'], df['train_loss'], label = 'train_loss')\n",
    "plt.plot(df['epoch'], df['val_accuracy'], label = 'val_accuracy')\n",
    "plt.plot(df['epoch'], df['val_loss'], label = 'val_loss')\n",
    "\n",
    "\n",
    "plt.legend(loc='upper left', scatterpoints = 1, frameon=False)\n",
    "\n",
    "plt.savefig('C:\\\\Users\\\\cwimmer\\\\OneDrive - Capgemini\\\\Projekte\\\\Similarity Modelling 2\\\\src\\\\Computer Vision\\\\plots\\\\Trainingcurve.png')\n",
    "\n",
    "plt.show()"
   ]
  },
  {
   "cell_type": "markdown",
   "metadata": {},
   "source": [
    "## Load Best model"
   ]
  },
  {
   "cell_type": "code",
   "execution_count": 16,
   "metadata": {},
   "outputs": [
    {
     "data": {
      "text/plain": [
       "Net(\n",
       "  (relu): ReLU()\n",
       "  (softmax): Softmax(dim=None)\n",
       "  (pool): MaxPool2d(kernel_size=2, stride=2, padding=0, dilation=1, ceil_mode=False)\n",
       "  (conv1): Conv2d(3, 64, kernel_size=(3, 3), stride=(1, 1), padding=(1, 1))\n",
       "  (conv2): Conv2d(64, 128, kernel_size=(3, 3), stride=(1, 1), padding=(1, 1))\n",
       "  (fc): Linear(in_features=524288, out_features=100, bias=True)\n",
       "  (out): Linear(in_features=100, out_features=2, bias=True)\n",
       ")"
      ]
     },
     "execution_count": 16,
     "metadata": {},
     "output_type": "execute_result"
    }
   ],
   "source": [
    "# Initialize the Network to reset it\n",
    "model = Net(output_size, len(classes)).to(device)\n",
    "\n",
    "model.load_state_dict(torch.load('C:\\\\Users\\\\cwimmer\\\\OneDrive - Capgemini\\\\Projekte\\\\similarity-modelling\\\\src\\\\Computer Vision\\\\models\\\\model-6.pt'))\n",
    "model.eval()"
   ]
  },
  {
   "cell_type": "markdown",
   "metadata": {},
   "source": [
    "## Test Model"
   ]
  },
  {
   "cell_type": "code",
   "execution_count": 17,
   "metadata": {},
   "outputs": [],
   "source": [
    "def test_model(model,test_loader,criterion, device=torch.device('cpu')):\n",
    "        # initialize metrics for every epoch\n",
    "        test_loss = 0\n",
    "        test_accuracy = 0 \n",
    "        counter = 0\n",
    "        \n",
    "        y_true = torch.tensor([], dtype=torch.long, device=device)\n",
    "        all_outputs = torch.tensor([], device=device)\n",
    "        \n",
    "        \n",
    "        # Tell torch not to calculate gradients\n",
    "        with torch.no_grad():\n",
    "            for inputs, labels in test_loader:  \n",
    "                inputs = inputs.to(device)\n",
    "                labels = labels.to(device)\n",
    "                # Forward pass\n",
    "                output = model.forward(inputs)            \n",
    "                # Calculate Loss\n",
    "                testloss = criterion(output, labels)            \n",
    "                # Add loss to the validation set's running loss\n",
    "                test_loss += testloss.item()*inputs.size(0)\n",
    "                # Since our model outputs a LogSoftmax, find the real           \n",
    "                # Get the top class of the output\n",
    "                top_p, top_class = output.topk(1, dim=1)\n",
    "\n",
    "\n",
    "                # See how many of the classes were correct?\n",
    "                equals = top_class == labels.view(*top_class.shape)            \n",
    "                # Calculate the mean (get the accuracy for this batch)\n",
    "                # and add it to the running accuracy for this epoch\n",
    "                test_accuracy += torch.mean(equals.type(torch.FloatTensor)).item()\n",
    "                # Print the progress of our evaluation\n",
    "                counter += 1\n",
    "\n",
    "                #outputs = model(*inputs)\n",
    "                y_true = torch.cat((y_true, labels), 0)\n",
    "                all_outputs = torch.cat((all_outputs, output), 0)\n",
    "                \n",
    "                \n",
    "                print('{}{}{} Test-Batches Progressed\\r'.format(counter, \"/\", len(test_loader)), end=\"\")\n",
    "                             \n",
    "        \n",
    "        y_true = y_true.cpu().numpy()  \n",
    "        _, y_pred = torch.max(all_outputs, 1)\n",
    "        y_pred = y_pred.cpu().numpy()\n",
    "        y_pred_prob = F.softmax(all_outputs, dim=1).cpu().numpy()\n",
    "                \n",
    "        # Get the average loss for the entire epoch\n",
    "        test_loss = round(test_loss/len(test_loader.dataset), 4)\n",
    "        test_accuracy = round(test_accuracy/len(test_loader), 4)\n",
    "        # Print out the information\n",
    "        print('Test Loss:  {} \\tTest Accuracy: {}'.format(test_loss, test_accuracy))\n",
    "        return test_loss, test_accuracy, y_true, y_pred, y_pred_prob"
   ]
  },
  {
   "cell_type": "code",
   "execution_count": 24,
   "metadata": {},
   "outputs": [
    {
     "name": "stdout",
     "output_type": "stream",
     "text": [
      "Test Loss:  0.1032 \tTest Accuracy: 0.9667\n"
     ]
    }
   ],
   "source": [
    "test_metrics = test_model(model,test_loader,criterion, device=device)"
   ]
  },
  {
   "cell_type": "code",
   "execution_count": 33,
   "metadata": {},
   "outputs": [],
   "source": [
    "y_pred = test_metrics[3]\n",
    "y_pred_prob = test_metrics[4]"
   ]
  },
  {
   "cell_type": "code",
   "execution_count": 39,
   "metadata": {},
   "outputs": [],
   "source": [
    "np.save('C:\\\\Users\\\\cwimmer\\\\OneDrive - Capgemini\\\\Projekte\\\\Similarity Modelling 2\\\\src\\\\Computer Vision\\\\y_pred.npy', y_pred)"
   ]
  },
  {
   "cell_type": "code",
   "execution_count": 40,
   "metadata": {},
   "outputs": [],
   "source": [
    "np.save('C:\\\\Users\\\\cwimmer\\\\OneDrive - Capgemini\\\\Projekte\\\\Similarity Modelling 2\\\\src\\\\Computer Vision\\\\y_pred_prob.npy', y_pred_prob)"
   ]
  },
  {
   "cell_type": "markdown",
   "metadata": {},
   "source": [
    "## ROC, Confusion Matrix, Accuracy, Recall, F1-Score with test-set"
   ]
  },
  {
   "cell_type": "markdown",
   "metadata": {},
   "source": [
    "### ROC Curve"
   ]
  },
  {
   "cell_type": "code",
   "execution_count": 25,
   "metadata": {},
   "outputs": [],
   "source": [
    "# Compute ROC curve and ROC area for each class\n",
    "fpr = dict()\n",
    "tpr = dict()\n",
    "roc_auc = dict()\n",
    "\n",
    "y_pred_prob = test_metrics[4][:, 1]\n",
    "\n",
    "fpr, tpr, _ = roc_curve(test_metrics[2], y_pred_prob)\n",
    "roc_auc = auc(fpr, tpr)"
   ]
  },
  {
   "cell_type": "code",
   "execution_count": 26,
   "metadata": {},
   "outputs": [
    {
     "data": {
      "image/png": "[encoded data removed]",
      "text/plain": [
       "<Figure size 720x432 with 1 Axes>"
      ]
     },
     "metadata": {
      "needs_background": "light"
     },
     "output_type": "display_data"
    }
   ],
   "source": [
    "plt.figure(figsize=(10,6))\n",
    "lw = 2\n",
    "plt.plot(fpr, tpr, color='darkorange',\n",
    "         lw=lw, label='ROC curve (area = %0.2f)' % roc_auc)\n",
    "plt.plot([0, 1], [0, 1], color='navy', lw=lw, linestyle='--')\n",
    "plt.xlim([0.0, 1.0])\n",
    "plt.ylim([0.0, 1.05])\n",
    "plt.xlabel('False Positive Rate')\n",
    "plt.ylabel('True Positive Rate')\n",
    "plt.title('Receiver operating characteristic of kirmet classifier')\n",
    "plt.legend(loc=\"lower right\")\n",
    "\n",
    "\n",
    "plt.savefig('C:\\\\Users\\\\cwimmer\\\\OneDrive - Capgemini\\\\Projekte\\\\Similarity Modelling 2\\\\src\\\\Computer Vision\\\\plots\\\\ROC.png')\n",
    "\n",
    "\n",
    "plt.show()"
   ]
  },
  {
   "cell_type": "markdown",
   "metadata": {},
   "source": [
    "### Classification Report"
   ]
  },
  {
   "cell_type": "code",
   "execution_count": 27,
   "metadata": {},
   "outputs": [
    {
     "name": "stdout",
     "output_type": "stream",
     "text": [
      "              precision    recall  f1-score   support\n",
      "\n",
      "      kirmet       0.97      0.91      0.94       141\n",
      "   no kirmet       0.96      0.99      0.98       325\n",
      "\n",
      "    accuracy                           0.97       466\n",
      "   macro avg       0.97      0.95      0.96       466\n",
      "weighted avg       0.97      0.97      0.97       466\n",
      "\n"
     ]
    }
   ],
   "source": [
    "from sklearn.metrics import classification_report\n",
    "CATEGORIES = ['kirmet', 'no kirmet']\n",
    "print(classification_report(y_true = test_metrics[2], y_pred = test_metrics[3], target_names = CATEGORIES))"
   ]
  },
  {
   "cell_type": "markdown",
   "metadata": {},
   "source": [
    "### Confusion Matrix"
   ]
  },
  {
   "cell_type": "code",
   "execution_count": 28,
   "metadata": {},
   "outputs": [
    {
     "name": "stdout",
     "output_type": "stream",
     "text": [
      "Confusion matrix\n",
      " tensor([[141.,   0.],\n",
      "        [325.,   1.]])\n"
     ]
    },
    {
     "data": {
      "text/plain": [
       "tensor(1.)"
      ]
     },
     "execution_count": 28,
     "metadata": {},
     "output_type": "execute_result"
    }
   ],
   "source": [
    "nb_classes = 2\n",
    "pred = test_metrics[4]\n",
    "target = test_metrics[2]\n",
    "\n",
    "conf_matrix = torch.zeros(nb_classes, nb_classes)\n",
    "        \n",
    "for t, p in zip(target, pred):\n",
    "    conf_matrix[t, p] += 1\n",
    "\n",
    "print('Confusion matrix\\n', conf_matrix)\n",
    "\n",
    "TP = conf_matrix.diag()[1]\n",
    "TP"
   ]
  },
  {
   "cell_type": "code",
   "execution_count": 30,
   "metadata": {},
   "outputs": [],
   "source": [
    "import numpy as np\n",
    "\n",
    "\n",
    "def plot_confusion_matrix(cm,\n",
    "                          target_names,\n",
    "                          title='Confusion matrix',\n",
    "                          cmap=None,\n",
    "                          normalize=True):\n",
    "    \"\"\"\n",
    "    given a sklearn confusion matrix (cm), make a nice plot\n",
    "\n",
    "    Arguments\n",
    "    ---------\n",
    "    cm:           confusion matrix from sklearn.metrics.confusion_matrix\n",
    "\n",
    "    target_names: given classification classes such as [0, 1, 2]\n",
    "                  the class names, for example: ['high', 'medium', 'low']\n",
    "\n",
    "    title:        the text to display at the top of the matrix\n",
    "\n",
    "    cmap:         the gradient of the values displayed from matplotlib.pyplot.cm\n",
    "                  see http://matplotlib.org/examples/color/colormaps_reference.html\n",
    "                  plt.get_cmap('jet') or plt.cm.Blues\n",
    "\n",
    "    normalize:    If False, plot the raw numbers\n",
    "                  If True, plot the proportions\n",
    "\n",
    "    Usage\n",
    "    -----\n",
    "    plot_confusion_matrix(cm           = cm,                  # confusion matrix created by\n",
    "                                                              # sklearn.metrics.confusion_matrix\n",
    "                          normalize    = True,                # show proportions\n",
    "                          target_names = y_labels_vals,       # list of names of the classes\n",
    "                          title        = best_estimator_name) # title of graph\n",
    "\n",
    "    Citiation\n",
    "    ---------\n",
    "    http://scikit-learn.org/stable/auto_examples/model_selection/plot_confusion_matrix.html\n",
    "\n",
    "    \"\"\"\n",
    "    import matplotlib.pyplot as plt\n",
    "    import numpy as np\n",
    "    import itertools\n",
    "\n",
    "    accuracy = np.trace(cm) / np.sum(cm).astype('float')\n",
    "    misclass = 1 - accuracy\n",
    "\n",
    "    if cmap is None:\n",
    "        cmap = plt.get_cmap('Blues')\n",
    "\n",
    "    plt.figure(figsize=(8, 6))\n",
    "    plt.imshow(cm, interpolation='nearest', cmap=cmap)\n",
    "    plt.title(title)\n",
    "    plt.colorbar()\n",
    "\n",
    "    if target_names is not None:\n",
    "        tick_marks = np.arange(len(target_names))\n",
    "        plt.xticks(tick_marks, target_names, rotation=45)\n",
    "        plt.yticks(tick_marks, target_names)\n",
    "\n",
    "    if normalize:\n",
    "        cm = cm.astype('float') / cm.sum(axis=1)[:, np.newaxis]\n",
    "\n",
    "\n",
    "    thresh = cm.max() / 1.5 if normalize else cm.max() / 2\n",
    "    for i, j in itertools.product(range(cm.shape[0]), range(cm.shape[1])):\n",
    "        if normalize:\n",
    "            plt.text(j, i, \"{:0.4f}\".format(cm[i, j]),\n",
    "                     horizontalalignment=\"center\",\n",
    "                     color=\"white\" if cm[i, j] > thresh else \"black\")\n",
    "        else:\n",
    "            plt.text(j, i, \"{:,}\".format(cm[i, j]),\n",
    "                     horizontalalignment=\"center\",\n",
    "                     color=\"white\" if cm[i, j] > thresh else \"black\")\n",
    "\n",
    "\n",
    "    plt.tight_layout()\n",
    "    plt.ylabel('True label')\n",
    "    plt.xlabel('Predicted label\\naccuracy={:0.4f}; misclass={:0.4f}'.format(accuracy, misclass))\n",
    "    plt.show()"
   ]
  },
  {
   "cell_type": "code",
   "execution_count": 31,
   "metadata": {},
   "outputs": [],
   "source": [
    "confusion_matrix = metrics.confusion_matrix(y_true=test_metrics[2], y_pred=test_metrics[3])\n"
   ]
  },
  {
   "cell_type": "code",
   "execution_count": 32,
   "metadata": {},
   "outputs": [
    {
     "data": {
      "image/png": "[encoded data removed]",
      "text/plain": [
       "<Figure size 576x432 with 2 Axes>"
      ]
     },
     "metadata": {
      "needs_background": "light"
     },
     "output_type": "display_data"
    }
   ],
   "source": [
    "plot_confusion_matrix(cm           = confusion_matrix, \n",
    "                      normalize    = False,\n",
    "                      target_names = CATEGORIES,\n",
    "                      title        = \"Confusion Matrix\")"
   ]
  }
 ],
 "metadata": {
  "kernelspec": {
   "display_name": "Python 3",
   "language": "python",
   "name": "python3"
  },
  "language_info": {
   "codemirror_mode": {
    "name": "ipython",
    "version": 3
   },
   "file_extension": ".py",
   "mimetype": "text/x-python",
   "name": "python",
   "nbconvert_exporter": "python",
   "pygments_lexer": "ipython3",
   "version": "3.7.4"
  }
 },
 "nbformat": 4,
 "nbformat_minor": 2
}
